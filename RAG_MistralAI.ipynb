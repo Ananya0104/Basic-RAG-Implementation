{
  "cells": [
    {
      "cell_type": "code",
      "execution_count": 1,
      "id": "6jtoi-SXZkEC",
      "metadata": {
        "colab": {
          "base_uri": "https://localhost:8080/"
        },
        "id": "6jtoi-SXZkEC",
        "outputId": "3da931ad-8cfc-4176-b1a1-e2a074e21f6b"
      },
      "outputs": [
        {
          "name": "stdout",
          "output_type": "stream",
          "text": [
            "Defaulting to user installation because normal site-packages is not writeable\n",
            "Requirement already satisfied: faiss-cpu==1.7.4 in /Users/ananyanagpal/Library/Python/3.9/lib/python/site-packages (1.7.4)\n",
            "Requirement already satisfied: mistralai in /Users/ananyanagpal/Library/Python/3.9/lib/python/site-packages (0.4.1)\n",
            "Requirement already satisfied: httpx<1,>=0.25 in /Users/ananyanagpal/Library/Python/3.9/lib/python/site-packages (from mistralai) (0.27.0)\n",
            "Requirement already satisfied: orjson<3.11,>=3.9.10 in /Users/ananyanagpal/Library/Python/3.9/lib/python/site-packages (from mistralai) (3.10.5)\n",
            "Requirement already satisfied: pydantic<3,>=2.5.2 in /Users/ananyanagpal/Library/Python/3.9/lib/python/site-packages (from mistralai) (2.7.4)\n",
            "Requirement already satisfied: anyio in /Users/ananyanagpal/Library/Python/3.9/lib/python/site-packages (from httpx<1,>=0.25->mistralai) (4.4.0)\n",
            "Requirement already satisfied: certifi in /Users/ananyanagpal/Library/Python/3.9/lib/python/site-packages (from httpx<1,>=0.25->mistralai) (2024.2.2)\n",
            "Requirement already satisfied: httpcore==1.* in /Users/ananyanagpal/Library/Python/3.9/lib/python/site-packages (from httpx<1,>=0.25->mistralai) (1.0.5)\n",
            "Requirement already satisfied: idna in /Users/ananyanagpal/Library/Python/3.9/lib/python/site-packages (from httpx<1,>=0.25->mistralai) (3.7)\n",
            "Requirement already satisfied: sniffio in /Users/ananyanagpal/Library/Python/3.9/lib/python/site-packages (from httpx<1,>=0.25->mistralai) (1.3.1)\n",
            "Requirement already satisfied: h11<0.15,>=0.13 in /Users/ananyanagpal/Library/Python/3.9/lib/python/site-packages (from httpcore==1.*->httpx<1,>=0.25->mistralai) (0.14.0)\n",
            "Requirement already satisfied: annotated-types>=0.4.0 in /Users/ananyanagpal/Library/Python/3.9/lib/python/site-packages (from pydantic<3,>=2.5.2->mistralai) (0.7.0)\n",
            "Requirement already satisfied: pydantic-core==2.18.4 in /Users/ananyanagpal/Library/Python/3.9/lib/python/site-packages (from pydantic<3,>=2.5.2->mistralai) (2.18.4)\n",
            "Requirement already satisfied: typing-extensions>=4.6.1 in /Users/ananyanagpal/Library/Python/3.9/lib/python/site-packages (from pydantic<3,>=2.5.2->mistralai) (4.12.2)\n",
            "Requirement already satisfied: exceptiongroup>=1.0.2 in /Users/ananyanagpal/Library/Python/3.9/lib/python/site-packages (from anyio->httpx<1,>=0.25->mistralai) (1.2.1)\n"
          ]
        }
      ],
      "source": [
        "! pip install faiss-cpu==1.7.4 mistralai"
      ]
    },
    {
      "cell_type": "code",
      "execution_count": 2,
      "id": "45hDnW8RWd02",
      "metadata": {
        "colab": {
          "base_uri": "https://localhost:8080/"
        },
        "id": "45hDnW8RWd02",
        "outputId": "5b04d6b2-db20-40a8-d887-e3c602895ee3"
      },
      "outputs": [
        {
          "name": "stdout",
          "output_type": "stream",
          "text": [
            "Defaulting to user installation because normal site-packages is not writeable\n",
            "Requirement already satisfied: python-dotenv in /Users/ananyanagpal/Library/Python/3.9/lib/python/site-packages (1.0.0)\n",
            "Note: you may need to restart the kernel to use updated packages.\n"
          ]
        }
      ],
      "source": [
        "pip install python-dotenv\n"
      ]
    },
    {
      "cell_type": "code",
      "execution_count": 3,
      "id": "iWv42AtKWMWq",
      "metadata": {
        "colab": {
          "base_uri": "https://localhost:8080/"
        },
        "id": "iWv42AtKWMWq",
        "outputId": "06a81234-93aa-4d59-b409-2766de2f279b"
      },
      "outputs": [
        {
          "data": {
            "text/plain": [
              "False"
            ]
          },
          "execution_count": 3,
          "metadata": {},
          "output_type": "execute_result"
        }
      ],
      "source": [
        "import dotenv\n",
        "dotenv.load_dotenv()"
      ]
    },
    {
      "cell_type": "code",
      "execution_count": 4,
      "id": "851612c3-ee93-42e3-a1fb-481f89c9410f",
      "metadata": {
        "colab": {
          "base_uri": "https://localhost:8080/"
        },
        "id": "851612c3-ee93-42e3-a1fb-481f89c9410f",
        "outputId": "6df94b4d-cea6-4f34-8bca-9f714262d947"
      },
      "outputs": [
        {
          "name": "stderr",
          "output_type": "stream",
          "text": [
            "/Users/ananyanagpal/Library/Python/3.9/lib/python/site-packages/urllib3/__init__.py:35: NotOpenSSLWarning: urllib3 v2 only supports OpenSSL 1.1.1+, currently the 'ssl' module is compiled with 'LibreSSL 2.8.3'. See: https://github.com/urllib3/urllib3/issues/3020\n",
            "  warnings.warn(\n"
          ]
        }
      ],
      "source": [
        "from mistralai.client import MistralClient\n",
        "from mistralai.models.chat_completion import ChatMessage\n",
        "import requests\n",
        "import numpy as np\n",
        "import faiss\n",
        "import os\n",
        "from getpass import getpass\n",
        "\n",
        "api_key= getpass(\"Type your API Key\")\n",
        "client = MistralClient(api_key=api_key)"
      ]
    },
    {
      "cell_type": "markdown",
      "id": "fe8609d5-9f27-4202-b0be-36db34412998",
      "metadata": {
        "id": "fe8609d5-9f27-4202-b0be-36db34412998"
      },
      "source": [
        "### Get data\n",
        "\n"
      ]
    },
    {
      "cell_type": "code",
      "execution_count": 5,
      "id": "c4c01740-72b4-482c-b61e-e272a734f01f",
      "metadata": {
        "id": "c4c01740-72b4-482c-b61e-e272a734f01f"
      },
      "outputs": [],
      "source": [
        "response = requests.get('https://raw.githubusercontent.com/run-llama/llama_index/main/docs/docs/examples/data/paul_graham/paul_graham_essay.txt')\n",
        "text = response.text"
      ]
    },
    {
      "cell_type": "code",
      "execution_count": 6,
      "id": "f4a2313f-686f-4b08-a553-cf9006af73eb",
      "metadata": {
        "id": "f4a2313f-686f-4b08-a553-cf9006af73eb"
      },
      "outputs": [],
      "source": [
        "f = open('essay.txt', 'w')\n",
        "f.write(text)\n",
        "f.close()"
      ]
    },
    {
      "cell_type": "code",
      "execution_count": 7,
      "id": "f03f47af-a20b-4122-a114-74b9748ff543",
      "metadata": {
        "colab": {
          "base_uri": "https://localhost:8080/"
        },
        "id": "f03f47af-a20b-4122-a114-74b9748ff543",
        "outputId": "770c20cf-aeaf-41b8-f01c-69b985073707"
      },
      "outputs": [
        {
          "data": {
            "text/plain": [
              "75014"
            ]
          },
          "execution_count": 7,
          "metadata": {},
          "output_type": "execute_result"
        }
      ],
      "source": [
        "len(text)"
      ]
    },
    {
      "cell_type": "markdown",
      "id": "aad1aa61-9e1c-46c8-ae5e-61855df440f9",
      "metadata": {
        "id": "aad1aa61-9e1c-46c8-ae5e-61855df440f9"
      },
      "source": [
        "## Split document into chunks\n"
      ]
    },
    {
      "cell_type": "code",
      "execution_count": 8,
      "id": "8494655e-bd87-49de-8f1d-69ffbc1c256e",
      "metadata": {
        "id": "8494655e-bd87-49de-8f1d-69ffbc1c256e"
      },
      "outputs": [],
      "source": [
        "chunk_size = 2048\n",
        "chunks = [text[i:i + chunk_size] for i in range(0, len(text), chunk_size)]"
      ]
    },
    {
      "cell_type": "code",
      "execution_count": 9,
      "id": "c78c9936-0c1d-471c-b030-6c45639e7238",
      "metadata": {
        "colab": {
          "base_uri": "https://localhost:8080/"
        },
        "id": "c78c9936-0c1d-471c-b030-6c45639e7238",
        "outputId": "87249441-ff41-46a2-b302-0ced6f8acde3"
      },
      "outputs": [
        {
          "data": {
            "text/plain": [
              "37"
            ]
          },
          "execution_count": 9,
          "metadata": {},
          "output_type": "execute_result"
        }
      ],
      "source": [
        "len(chunks)"
      ]
    },
    {
      "cell_type": "code",
      "execution_count": 10,
      "id": "e77d9805-7a53-4210-9f80-f4de52285588",
      "metadata": {
        "id": "e77d9805-7a53-4210-9f80-f4de52285588"
      },
      "outputs": [],
      "source": [
        "def get_text_embedding(input):\n",
        "    embeddings_batch_response = client.embeddings(\n",
        "          model=\"mistral-embed\",\n",
        "          input=input\n",
        "      )\n",
        "    return embeddings_batch_response.data[0].embedding"
      ]
    },
    {
      "cell_type": "code",
      "execution_count": 11,
      "id": "46503830-6ad5-493e-a629-152721e2d88e",
      "metadata": {
        "id": "46503830-6ad5-493e-a629-152721e2d88e"
      },
      "outputs": [],
      "source": [
        "text_embeddings = np.array([get_text_embedding(chunk) for chunk in chunks])"
      ]
    },
    {
      "cell_type": "code",
      "execution_count": 12,
      "id": "ca875993-fe6d-42df-811e-a43891cd0350",
      "metadata": {
        "colab": {
          "base_uri": "https://localhost:8080/"
        },
        "id": "ca875993-fe6d-42df-811e-a43891cd0350",
        "outputId": "09ff0c8e-85b4-44d6-f591-6d4d2e2112cf"
      },
      "outputs": [
        {
          "data": {
            "text/plain": [
              "(37, 1024)"
            ]
          },
          "execution_count": 12,
          "metadata": {},
          "output_type": "execute_result"
        }
      ],
      "source": [
        "text_embeddings.shape"
      ]
    },
    {
      "cell_type": "code",
      "execution_count": 13,
      "id": "55396758-c3f3-45b3-b6e7-d4912c0899f2",
      "metadata": {
        "colab": {
          "base_uri": "https://localhost:8080/"
        },
        "id": "55396758-c3f3-45b3-b6e7-d4912c0899f2",
        "outputId": "c23b4be3-fecb-4b68-ea9f-db61d246649f"
      },
      "outputs": [
        {
          "data": {
            "text/plain": [
              "array([[-3.95202637e-02,  7.75756836e-02, -8.82148743e-05, ...,\n",
              "        -1.26342773e-02, -2.12402344e-02, -2.50816345e-03],\n",
              "       [-3.19213867e-02,  7.21435547e-02,  2.99835205e-02, ...,\n",
              "        -1.08413696e-02, -1.19628906e-02, -7.66372681e-03],\n",
              "       [-5.89599609e-02,  6.12487793e-02,  1.26419067e-02, ...,\n",
              "        -2.25372314e-02,  4.67681885e-03, -6.26754761e-03],\n",
              "       ...,\n",
              "       [-5.52978516e-02,  6.89697266e-02,  2.69622803e-02, ...,\n",
              "        -2.54211426e-02, -2.52227783e-02, -2.68859863e-02],\n",
              "       [-3.90014648e-02,  5.63049316e-02,  4.76684570e-02, ...,\n",
              "        -1.77001953e-02,  9.33074951e-03, -8.72039795e-03],\n",
              "       [-2.99377441e-02,  5.81054688e-02,  1.70898438e-02, ...,\n",
              "        -1.61132812e-02, -1.79290771e-02, -4.35791016e-02]])"
            ]
          },
          "execution_count": 13,
          "metadata": {},
          "output_type": "execute_result"
        }
      ],
      "source": [
        "text_embeddings"
      ]
    },
    {
      "cell_type": "markdown",
      "id": "1cba33c7-9d1d-44d8-a01e-e30f16be1aac",
      "metadata": {
        "id": "1cba33c7-9d1d-44d8-a01e-e30f16be1aac"
      },
      "source": [
        "### Load into a vector database\n",
        "\n"
      ]
    },
    {
      "cell_type": "code",
      "execution_count": 14,
      "id": "6a5b1877-b113-4527-9055-cae9049fef08",
      "metadata": {
        "id": "6a5b1877-b113-4527-9055-cae9049fef08"
      },
      "outputs": [],
      "source": [
        "d = text_embeddings.shape[1]\n",
        "index = faiss.IndexFlatL2(d)\n",
        "index.add(text_embeddings)"
      ]
    },
    {
      "cell_type": "markdown",
      "id": "5ee023ab-b26c-4df5-8a7b-7dd660bfad86",
      "metadata": {
        "id": "5ee023ab-b26c-4df5-8a7b-7dd660bfad86"
      },
      "source": [
        "\n",
        "\n",
        "### Create embeddings for a question\n",
        "\n"
      ]
    },
    {
      "cell_type": "code",
      "execution_count": 15,
      "id": "894d9764-9da9-4629-8f2a-c9dcaf6ceb8d",
      "metadata": {
        "colab": {
          "base_uri": "https://localhost:8080/"
        },
        "id": "894d9764-9da9-4629-8f2a-c9dcaf6ceb8d",
        "outputId": "cc74c948-aeca-4eb1-90fd-fbb259e6ade3"
      },
      "outputs": [
        {
          "data": {
            "text/plain": [
              "(1, 1024)"
            ]
          },
          "execution_count": 15,
          "metadata": {},
          "output_type": "execute_result"
        }
      ],
      "source": [
        "question = \"What were the two main things the author worked on before college?\"\n",
        "question_embeddings = np.array([get_text_embedding(question)])\n",
        "question_embeddings.shape"
      ]
    },
    {
      "cell_type": "code",
      "execution_count": 16,
      "id": "9c4948cc-6d8b-449f-bc00-abb3591c7222",
      "metadata": {
        "colab": {
          "base_uri": "https://localhost:8080/"
        },
        "id": "9c4948cc-6d8b-449f-bc00-abb3591c7222",
        "outputId": "4bd5abf2-40d0-463e-d715-d8a4dc206ec4"
      },
      "outputs": [
        {
          "data": {
            "text/plain": [
              "array([[-0.05456543,  0.03518677,  0.03723145, ..., -0.02763367,\n",
              "        -0.00327873,  0.00323677]])"
            ]
          },
          "execution_count": 16,
          "metadata": {},
          "output_type": "execute_result"
        }
      ],
      "source": [
        "question_embeddings"
      ]
    },
    {
      "cell_type": "markdown",
      "id": "15989e10-d0ec-41be-b6be-fa317565a926",
      "metadata": {
        "id": "15989e10-d0ec-41be-b6be-fa317565a926"
      },
      "source": [
        "\n",
        "\n",
        "### Retrieve similar chunks from the vector database\n",
        "\n"
      ]
    },
    {
      "cell_type": "code",
      "execution_count": 17,
      "id": "c930b378-7aac-434c-881b-ab69d3edb93d",
      "metadata": {
        "colab": {
          "base_uri": "https://localhost:8080/"
        },
        "id": "c930b378-7aac-434c-881b-ab69d3edb93d",
        "outputId": "7ec8a7bf-23a9-43c9-ec15-ffe459d595d1"
      },
      "outputs": [
        {
          "name": "stdout",
          "output_type": "stream",
          "text": [
            "[[0 3]]\n"
          ]
        }
      ],
      "source": [
        "D, I = index.search(question_embeddings, k=2)\n",
        "print(I)"
      ]
    },
    {
      "cell_type": "code",
      "execution_count": 18,
      "id": "73aab584-1dbf-4532-b41e-0403eeeeb567",
      "metadata": {
        "colab": {
          "base_uri": "https://localhost:8080/"
        },
        "id": "73aab584-1dbf-4532-b41e-0403eeeeb567",
        "outputId": "ea0cd21a-3c7c-46d9-9e00-ec90813529d5"
      },
      "outputs": [
        {
          "name": "stdout",
          "output_type": "stream",
          "text": [
            "['\\n\\nWhat I Worked On\\n\\nFebruary 2021\\n\\nBefore college the two main things I worked on, outside of school, were writing and programming. I didn\\'t write essays. I wrote what beginning writers were supposed to write then, and probably still are: short stories. My stories were awful. They had hardly any plot, just characters with strong feelings, which I imagined made them deep.\\n\\nThe first programs I tried writing were on the IBM 1401 that our school district used for what was then called \"data processing.\" This was in 9th grade, so I was 13 or 14. The school district\\'s 1401 happened to be in the basement of our junior high school, and my friend Rich Draves and I got permission to use it. It was like a mini Bond villain\\'s lair down there, with all these alien-looking machines — CPU, disk drives, printer, card reader — sitting up on a raised floor under bright fluorescent lights.\\n\\nThe language we used was an early version of Fortran. You had to type programs on punch cards, then stack them in the card reader and press a button to load the program into memory and run it. The result would ordinarily be to print something on the spectacularly loud printer.\\n\\nI was puzzled by the 1401. I couldn\\'t figure out what to do with it. And in retrospect there\\'s not much I could have done with it. The only form of input to programs was data stored on punched cards, and I didn\\'t have any data stored on punched cards. The only other option was to do things that didn\\'t rely on any input, like calculate approximations of pi, but I didn\\'t know enough math to do anything interesting of that type. So I\\'m not surprised I can\\'t remember any programs I wrote, because they can\\'t have done much. My clearest memory is of the moment I learned it was possible for programs not to terminate, when one of mine didn\\'t. On a machine without time-sharing, this was a social as well as a technical error, as the data center manager\\'s expression made clear.\\n\\nWith microcomputers, everything changed. Now you could have a computer sitting right in front of you, on ', 'arvard accepted me, so that was where I went.\\n\\nI don\\'t remember the moment it happened, or if there even was a specific moment, but during the first year of grad school I realized that AI, as practiced at the time, was a hoax. By which I mean the sort of AI in which a program that\\'s told \"the dog is sitting on the chair\" translates this into some formal representation and adds it to the list of things it knows.\\n\\nWhat these programs really showed was that there\\'s a subset of natural language that\\'s a formal language. But a very proper subset. It was clear that there was an unbridgeable gap between what they could do and actually understanding natural language. It was not, in fact, simply a matter of teaching SHRDLU more words. That whole way of doing AI, with explicit data structures representing concepts, was not going to work. Its brokenness did, as so often happens, generate a lot of opportunities to write papers about various band-aids that could be applied to it, but it was never going to get us Mike.\\n\\nSo I looked around to see what I could salvage from the wreckage of my plans, and there was Lisp. I knew from experience that Lisp was interesting for its own sake and not just for its association with AI, even though that was the main reason people cared about it at the time. So I decided to focus on Lisp. In fact, I decided to write a book about Lisp hacking. It\\'s scary to think how little I knew about Lisp hacking when I started writing that book. But there\\'s nothing like writing a book about something to help you learn it. The book, On Lisp, wasn\\'t published till 1993, but I wrote much of it in grad school.\\n\\nComputer Science is an uneasy alliance between two halves, theory and systems. The theory people prove things, and the systems people build things. I wanted to build things. I had plenty of respect for theory — indeed, a sneaking suspicion that it was the more admirable of the two halves — but building things seemed so much more exciting.\\n\\nThe problem with systems work, though, was that it didn\\'t last. ']\n"
          ]
        }
      ],
      "source": [
        "retrieved_chunk = [chunks[i] for i in I.tolist()[0]]\n",
        "print(retrieved_chunk)"
      ]
    },
    {
      "cell_type": "markdown",
      "id": "4b417a59-021a-411d-a491-cb31815192cd",
      "metadata": {
        "id": "4b417a59-021a-411d-a491-cb31815192cd"
      },
      "source": [
        "\n",
        "  \n",
        "### Combine context and question in a prompt and generate response\n",
        "\n",
        "\n"
      ]
    },
    {
      "cell_type": "code",
      "execution_count": 19,
      "id": "da042a53-4564-4057-9a60-9b57dffff6a1",
      "metadata": {
        "id": "da042a53-4564-4057-9a60-9b57dffff6a1"
      },
      "outputs": [],
      "source": [
        "prompt = f\"\"\"\n",
        "Context information is below.\n",
        "---------------------\n",
        "{retrieved_chunk}\n",
        "---------------------\n",
        "Given the context information and not prior knowledge, answer the query.\n",
        "Query: {question}\n",
        "Answer:\n",
        "\"\"\""
      ]
    },
    {
      "cell_type": "code",
      "execution_count": 20,
      "id": "e77d975b-5f69-4e9c-8b94-97214517eac7",
      "metadata": {
        "id": "e77d975b-5f69-4e9c-8b94-97214517eac7"
      },
      "outputs": [],
      "source": [
        "def run_mistral(user_message, model=\"mistral-medium-latest\"):\n",
        "    messages = [\n",
        "        ChatMessage(role=\"user\", content=user_message)\n",
        "    ]\n",
        "    chat_response = client.chat(\n",
        "        model=model,\n",
        "        messages=messages\n",
        "    )\n",
        "    return (chat_response.choices[0].message.content)"
      ]
    },
    {
      "cell_type": "code",
      "execution_count": 21,
      "id": "1c5c20aa-6673-4105-9c10-886a1e18da8a",
      "metadata": {
        "colab": {
          "base_uri": "https://localhost:8080/",
          "height": 103
        },
        "id": "1c5c20aa-6673-4105-9c10-886a1e18da8a",
        "outputId": "a493926e-5556-4bc6-8cd4-7eb685172129"
      },
      "outputs": [
        {
          "data": {
            "text/plain": [
              "\"The two main things the author worked on before college were writing and programming. In terms of writing, they wrote short stories, which they described as having weak plots and mainly focusing on characters with strong feelings. In terms of programming, they first tried writing programs on an IBM 1401 in 9th grade using an early version of Fortran. They typed programs on punch cards, which were then loaded into memory and run on the machine. However, they struggled to figure out what to do with the 1401 and didn't remember any programs they wrote for it. The author's experience with programming changed with the advent of microcomputers, which allowed them to have a computer sitting right in front of them.\""
            ]
          },
          "execution_count": 21,
          "metadata": {},
          "output_type": "execute_result"
        }
      ],
      "source": [
        "run_mistral(prompt)"
      ]
    }
  ],
  "metadata": {
    "colab": {
      "provenance": []
    },
    "jupytext": {
      "formats": "ipynb,py:light"
    },
    "kernelspec": {
      "display_name": "Python 3 (ipykernel)",
      "language": "python",
      "name": "python3"
    },
    "language_info": {
      "codemirror_mode": {
        "name": "ipython",
        "version": 3
      },
      "file_extension": ".py",
      "mimetype": "text/x-python",
      "name": "python",
      "nbconvert_exporter": "python",
      "pygments_lexer": "ipython3",
      "version": "3.9.6"
    }
  },
  "nbformat": 4,
  "nbformat_minor": 5
}
